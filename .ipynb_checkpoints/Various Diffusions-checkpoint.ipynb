{
 "cells": [
  {
   "cell_type": "code",
   "execution_count": null,
   "id": "20b7da98",
   "metadata": {},
   "outputs": [],
   "source": [
    "import numpy as np\n",
    "from scipy.integrate import solve_ivp\n",
    "\n",
    "import matplotlib.pyplot as plt\n",
    "from matplotlib.cm import viridis\n",
    "\n",
    "from Diffusion_w_Consumption import DiffusionWithConsumption, configure_rc_params\n",
    "\n",
    "# Apply rcParams configuration\n",
    "configure_rc_params()"
   ]
  },
  {
   "cell_type": "markdown",
   "id": "9aecac3e",
   "metadata": {},
   "source": [
    "# Results for different Diffusion Scales\n",
    "\n",
    "$$\n",
    "\\frac{\\tau_{diff}}{T_{consump}} = \n",
    "\\begin{cases} \n",
    "    \\gg 1,  \\;  \\text{diffusion domination}   \\\\ \n",
    "    \\sim 1, \\;  \\text{comparable time scales} \\\\\n",
    "    \\ll 1,  \\;  \\text{consumption domiation}\n",
    "\\end{cases}\n",
    "\\implies\n",
    "\\tau =\n",
    "\\begin{cases} \n",
    "10 \\\\ \n",
    "1 \\\\ \n",
    "0.1 \n",
    "\\end{cases}\n",
    "\\; \\& \\; T = 1\n",
    "\\implies\n",
    "D = \n",
    "\\begin{cases} \n",
    "1/20 \\\\ \n",
    "1/2 \\\\ \n",
    "5 \n",
    "\\end{cases}\n",
    "$$"
   ]
  }
 ],
 "metadata": {
  "kernelspec": {
   "display_name": "Python 3 (ipykernel)",
   "language": "python",
   "name": "python3"
  },
  "language_info": {
   "codemirror_mode": {
    "name": "ipython",
    "version": 3
   },
   "file_extension": ".py",
   "mimetype": "text/x-python",
   "name": "python",
   "nbconvert_exporter": "python",
   "pygments_lexer": "ipython3",
   "version": "3.8.8"
  }
 },
 "nbformat": 4,
 "nbformat_minor": 5
}
