{
 "cells": [
  {
   "cell_type": "code",
   "execution_count": 1,
   "id": "66d07b52",
   "metadata": {},
   "outputs": [],
   "source": [
    "from base import np\n",
    "from threeD import Solver3D\n",
    "\n",
    "# Export figures to Folder\n",
    "figures_path = \"../TFG_latex/Figures/Nutrients3D/\""
   ]
  },
  {
   "cell_type": "markdown",
   "id": "19dd1c4d",
   "metadata": {},
   "source": [
    "## Results for Shell Bacterial Concentration\n",
    "\n",
    "$$∇_r^2 n​ − \\alpha \\cdot c(r) \\cdot n(r) = 0$$\n",
    "\n",
    "These Bacterial Profiles need to be normalised, since theoretically, $r \\in [R_D, \\infty)$.\n",
    "\n",
    "$$\\int_{R_D}^{\\infty} c(r) 4 \\pi r^2 \\; dr = 1$$\n",
    "\n",
    "$c_{\\text{shell}}(r; \\rho,\\lambda) = \n",
    "\\begin{cases}\n",
    "    c_0(\\rho, \\lambda) & r \\in [\\rho,\\rho +\\lambda], \\\\\n",
    "    0 & r \\in [R_D, \\rho] \\cup [\\rho +\\lambda, \\infty).\n",
    "\\end{cases}\n",
    "\\implies\n",
    "\\int_{\\rho}^{\\rho +\\lambda} r^2 \\, dr =  \\frac{(\\rho +\\lambda)^3 - \\rho^3}{3} = \\frac{1}{4 \\pi c_0(\\rho, \\lambda)}\n",
    "$\n",
    "\n",
    "$$\n",
    "c_{\\text{shell}}(r; \\rho,\\lambda) = \n",
    "\\begin{cases} \n",
    "    \\frac{3}{4 \\pi} \\frac{1}{\\lambda^3 + 3\\lambda^2 \\rho + 3\\lambda \\rho^2} & \\text{if } \\rho \\leq r \\leq \\rho +\\lambda, \\\\\n",
    "    0 & \\text{otherwise}.\n",
    "\\end{cases}\n",
    "$$"
   ]
  },
  {
   "cell_type": "code",
   "execution_count": 2,
   "id": "7a3d29b7",
   "metadata": {},
   "outputs": [],
   "source": [
    "def shell_generator(rho, lambda_):\n",
    "    'Define the inner step function that takes r as parameter'\n",
    "    def c_shell(r):\n",
    "        'Determine the condition based on rho and lambda_'\n",
    "        cond = (r >= rho) & (r <= rho + lambda_)\n",
    "        c = 3/(4*np.pi) * 1/(lambda_**3 + 3 * lambda_**2 * rho + 3 * lambda_ * rho**2)\n",
    "        # Return c where cond == True, else 0\n",
    "        return np.where(cond , c , 0)\n",
    "    return c_shell"
   ]
  },
  {
   "cell_type": "code",
   "execution_count": 3,
   "id": "a7daf885",
   "metadata": {},
   "outputs": [],
   "source": [
    "syst_params = {\n",
    "'R_dtm' : 1.0, 'R_inf' : 1000,\n",
    "'T_ratio': 1e-3,     # WTF ¿?¿?¿?\n",
    "'nr': 10000,    # 100_000\n",
    "'rho': 10 ,     # Starting point of the step\n",
    "'lambda' : 20,  # Length of the step\n",
    "'L' : 50,       # Length of plot domain\n",
    "}\n",
    "\n",
    "R_dtm, R_inf, L = syst_params['R_dtm'], syst_params['R_inf'], syst_params['L']"
   ]
  },
  {
   "cell_type": "markdown",
   "id": "6d5dd542",
   "metadata": {},
   "source": [
    "___\n",
    "### Spherical Shell Concentration with Analytical Solution"
   ]
  },
  {
   "cell_type": "markdown",
   "id": "951e96cf",
   "metadata": {},
   "source": [
    "After solving the ODE and applying the boundary condition: $n(r=R_D) = 0$ \\& $n(r=\\infty) = 1$. We get:\n",
    "\n",
    "$$\n",
    "n(r) = \n",
    "\\begin{cases}\n",
    "A\\left(\\frac{1}{r} - \\frac{1}{R_D} \\right) & R_D \\leq r < \\rho, \\\\\n",
    "\\frac{1}{r} \\left( B e^{kr} + C e^{-kr} \\right) & \\rho \\leq r \\leq \\rho + \\lambda, \\\\\n",
    "\\frac{D}{r} + 1 & r > \\rho + \\lambda,\n",
    "\\end{cases}\n",
    "$$\n",
    "\n",
    "$k = k(\\rho, \\lambda) := \\sqrt{\\alpha \\, c_0(\\rho, \\lambda)}$\n",
    "\n",
    "Where $A$, $F$, $G$, $D$ are constants to be determined by continuity of $n(r)$ and $\\frac{d \\, n}{dr}$ at $r = \\rho$ and $r = \\rho + \\lambda$."
   ]
  },
  {
   "cell_type": "code",
   "execution_count": 4,
   "id": "88b41f60",
   "metadata": {},
   "outputs": [
    {
     "ename": "AttributeError",
     "evalue": "'SolveAnalytically' object has no attribute 'x'",
     "output_type": "error",
     "traceback": [
      "\u001b[1;31m---------------------------------------------------------------------------\u001b[0m",
      "\u001b[1;31mAttributeError\u001b[0m                            Traceback (most recent call last)",
      "Cell \u001b[1;32mIn[4], line 6\u001b[0m\n\u001b[0;32m      4\u001b[0m S3D\u001b[38;5;241m.\u001b[39mode\u001b[38;5;241m.\u001b[39msolve()\n\u001b[0;32m      5\u001b[0m S3D\u001b[38;5;241m.\u001b[39mode\u001b[38;5;241m.\u001b[39manalyt\u001b[38;5;241m.\u001b[39msolve()\n\u001b[1;32m----> 6\u001b[0m S3D\u001b[38;5;241m.\u001b[39mplot\u001b[38;5;241m.\u001b[39mdouble_plot(xlim\u001b[38;5;241m=\u001b[39m(\u001b[38;5;241m0\u001b[39m, L))\n\u001b[0;32m      7\u001b[0m S3D\u001b[38;5;241m.\u001b[39mplot\u001b[38;5;241m.\u001b[39msave(figures_path, \u001b[38;5;124m\"\u001b[39m\u001b[38;5;124mc_shell(r)_analyt\u001b[39m\u001b[38;5;124m\"\u001b[39m)\n",
      "File \u001b[1;32mc:\\Users\\jorge\\OneDrive\\Pygrams\\TFG_program\\base\\diffusion_plotter.py:124\u001b[0m, in \u001b[0;36mDiffusionPlotter.double_plot\u001b[1;34m(self, xlim)\u001b[0m\n\u001b[0;32m    121\u001b[0m \u001b[38;5;28mself\u001b[39m\u001b[38;5;241m.\u001b[39mfig, \u001b[38;5;28mself\u001b[39m\u001b[38;5;241m.\u001b[39maxes \u001b[38;5;241m=\u001b[39m plt\u001b[38;5;241m.\u001b[39msubplots(\u001b[38;5;241m1\u001b[39m, \u001b[38;5;241m2\u001b[39m, figsize\u001b[38;5;241m=\u001b[39m(\u001b[38;5;241m2\u001b[39m\u001b[38;5;241m*\u001b[39m\u001b[38;5;241m6\u001b[39m\u001b[38;5;241m+\u001b[39m\u001b[38;5;241m1\u001b[39m, \u001b[38;5;241m6\u001b[39m))\n\u001b[0;32m    122\u001b[0m \u001b[38;5;28mself\u001b[39m\u001b[38;5;241m.\u001b[39m_adjust_figure()\n\u001b[1;32m--> 124\u001b[0m \u001b[38;5;28mself\u001b[39m\u001b[38;5;241m.\u001b[39mconcentrations(\u001b[38;5;28mself\u001b[39m\u001b[38;5;241m.\u001b[39maxes[\u001b[38;5;241m0\u001b[39m])\n\u001b[0;32m    125\u001b[0m \u001b[38;5;28mself\u001b[39m\u001b[38;5;241m.\u001b[39mnutrient_flux(\u001b[38;5;28mself\u001b[39m\u001b[38;5;241m.\u001b[39maxes[\u001b[38;5;241m1\u001b[39m])\n\u001b[0;32m    127\u001b[0m \u001b[38;5;28;01mif\u001b[39;00m xlim \u001b[38;5;129;01mis\u001b[39;00m \u001b[38;5;129;01mnot\u001b[39;00m \u001b[38;5;28;01mNone\u001b[39;00m:\n",
      "File \u001b[1;32mc:\\Users\\jorge\\OneDrive\\Pygrams\\TFG_program\\base\\diffusion_plotter.py:51\u001b[0m, in \u001b[0;36mDiffusionPlotter.concentrations\u001b[1;34m(self, ax)\u001b[0m\n\u001b[0;32m     48\u001b[0m \u001b[38;5;28;01mif\u001b[39;00m \u001b[38;5;28mhasattr\u001b[39m(solver\u001b[38;5;241m.\u001b[39mode, \u001b[38;5;124m'\u001b[39m\u001b[38;5;124manalyt\u001b[39m\u001b[38;5;124m'\u001b[39m):\n\u001b[0;32m     49\u001b[0m     \u001b[38;5;28;01mif\u001b[39;00m \u001b[38;5;28mhasattr\u001b[39m(solver\u001b[38;5;241m.\u001b[39mode\u001b[38;5;241m.\u001b[39manalyt, \u001b[38;5;124m'\u001b[39m\u001b[38;5;124mn\u001b[39m\u001b[38;5;124m'\u001b[39m):\n\u001b[0;32m     50\u001b[0m         ax\u001b[38;5;241m.\u001b[39mplot(\n\u001b[1;32m---> 51\u001b[0m             solver\u001b[38;5;241m.\u001b[39mode\u001b[38;5;241m.\u001b[39manalyt\u001b[38;5;241m.\u001b[39mx, solver\u001b[38;5;241m.\u001b[39mode\u001b[38;5;241m.\u001b[39manalyt\u001b[38;5;241m.\u001b[39mn,\n\u001b[0;32m     52\u001b[0m             \u001b[38;5;124m'\u001b[39m\u001b[38;5;124mm:\u001b[39m\u001b[38;5;124m'\u001b[39m, label\u001b[38;5;241m=\u001b[39m\u001b[38;5;124m'\u001b[39m\u001b[38;5;124m$n_\u001b[39m\u001b[38;5;132;01m{Analytical}\u001b[39;00m\u001b[38;5;124m'\u001b[39m\u001b[38;5;241m+\u001b[39m\u001b[38;5;124mf\u001b[39m\u001b[38;5;124m'\u001b[39m\u001b[38;5;124m(\u001b[39m\u001b[38;5;132;01m{\u001b[39;00m\u001b[38;5;28mself\u001b[39m\u001b[38;5;241m.\u001b[39mx_str\u001b[38;5;132;01m}\u001b[39;00m\u001b[38;5;124m)$\u001b[39m\u001b[38;5;124m'\u001b[39m\n\u001b[0;32m     53\u001b[0m         )\n\u001b[0;32m     55\u001b[0m \u001b[38;5;28mself\u001b[39m\u001b[38;5;241m.\u001b[39m_set_plot_annotations(\n\u001b[0;32m     56\u001b[0m     ax, \u001b[38;5;28mself\u001b[39m\u001b[38;5;241m.\u001b[39mx_str, \u001b[38;5;124mf\u001b[39m\u001b[38;5;124m'\u001b[39m\u001b[38;5;124mNutrient Concentration n(\u001b[39m\u001b[38;5;132;01m{\u001b[39;00m\u001b[38;5;28mself\u001b[39m\u001b[38;5;241m.\u001b[39mx_str\u001b[38;5;132;01m}\u001b[39;00m\u001b[38;5;124m,t)\u001b[39m\u001b[38;5;124m'\u001b[39m,\n\u001b[0;32m     57\u001b[0m     \u001b[38;5;124m'\u001b[39m\u001b[38;5;124mNutrient Diffusion Given a Bacterial Distribution\u001b[39m\u001b[38;5;124m'\u001b[39m)\n\u001b[0;32m     59\u001b[0m \u001b[38;5;66;03m# Define the secondary y-axis for the bacteria concentration\u001b[39;00m\n",
      "\u001b[1;31mAttributeError\u001b[0m: 'SolveAnalytically' object has no attribute 'x'"
     ]
    },
    {
     "data": {
      "image/png": "[encoded data removed]",
      "text/plain": [
       "<Figure size 1300x600 with 2 Axes>"
      ]
     },
     "metadata": {},
     "output_type": "display_data"
    }
   ],
   "source": [
    "c_shell = shell_generator(syst_params['rho'], syst_params['lambda'])\n",
    "S3D = Solver3D(syst_params, c_shell)\n",
    "\n",
    "S3D.ode.solve()\n",
    "S3D.ode.analyt.solve()\n",
    "S3D.plot.double_plot(xlim=(0, L))\n",
    "S3D.plot.save(figures_path, \"c_shell(r)_analyt\")"
   ]
  },
  {
   "cell_type": "code",
   "execution_count": null,
   "id": "dab2f6ec",
   "metadata": {},
   "outputs": [
    {
     "ename": "AttributeError",
     "evalue": "'SolveAnalytically' object has no attribute 'x'",
     "output_type": "error",
     "traceback": [
      "\u001b[1;31m---------------------------------------------------------------------------\u001b[0m",
      "\u001b[1;31mAttributeError\u001b[0m                            Traceback (most recent call last)",
      "Cell \u001b[1;32mIn[9], line 1\u001b[0m\n\u001b[1;32m----> 1\u001b[0m S3D\u001b[38;5;241m.\u001b[39mode\u001b[38;5;241m.\u001b[39manalyt\u001b[38;5;241m.\u001b[39mx\n",
      "\u001b[1;31mAttributeError\u001b[0m: 'SolveAnalytically' object has no attribute 'x'"
     ]
    }
   ],
   "source": [
    "S3D.ode.analyt.x"
   ]
  }
 ],
 "metadata": {
  "kernelspec": {
   "display_name": "base",
   "language": "python",
   "name": "python3"
  },
  "language_info": {
   "codemirror_mode": {
    "name": "ipython",
    "version": 3
   },
   "file_extension": ".py",
   "mimetype": "text/x-python",
   "name": "python",
   "nbconvert_exporter": "python",
   "pygments_lexer": "ipython3",
   "version": "3.12.4"
  }
 },
 "nbformat": 4,
 "nbformat_minor": 5
}
