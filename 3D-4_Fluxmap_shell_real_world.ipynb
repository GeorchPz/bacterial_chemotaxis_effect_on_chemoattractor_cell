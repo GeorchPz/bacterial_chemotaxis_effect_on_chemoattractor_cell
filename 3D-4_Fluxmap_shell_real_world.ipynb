{
 "cells": [
  {
   "cell_type": "code",
   "execution_count": 30,
   "metadata": {},
   "outputs": [],
   "source": [
    "from base import np\n",
    "import pandas as pd\n",
    "\n",
    "import importlib\n",
    "import threeD\n",
    "importlib.reload(threeD)\n",
    "from threeD import FluxMap3D\n",
    "\n",
    "# Export figures to Folder\n",
    "figures_path = \"../Figures/FluxMap3D/\""
   ]
  },
  {
   "cell_type": "code",
   "execution_count": 31,
   "metadata": {},
   "outputs": [],
   "source": [
    "def shell_generator(r0, l):\n",
    "    'Define the inner step function that takes r as parameter'\n",
    "    def c_shell(r):\n",
    "        'Determine the condition based on r0 and l'\n",
    "        cond = (r >= r0) & (r <= r0 + l)\n",
    "        c = 3/(4*np.pi) * 1/(l**3 + 3 * l**2 * r0 + 3 * l * r0**2)\n",
    "        # Return c where cond == True, else 0\n",
    "        return np.where(cond , c , 0)\n",
    "    return c_shell"
   ]
  },
  {
   "cell_type": "markdown",
   "metadata": {},
   "source": [
    "#### Extract Real Numbers from Excel"
   ]
  },
  {
   "cell_type": "code",
   "execution_count": 32,
   "metadata": {},
   "outputs": [
    {
     "data": {
      "application/vnd.microsoft.datawrangler.viewer.v0+json": {
       "columns": [
        {
         "name": "index",
         "rawType": "int64",
         "type": "integer"
        },
        {
         "name": "Diatom",
         "rawType": "object",
         "type": "string"
        },
        {
         "name": "Diatom Length",
         "rawType": "object",
         "type": "string"
        },
        {
         "name": "L_d (μm)",
         "rawType": "int64",
         "type": "integer"
        },
        {
         "name": "σL_d",
         "rawType": "int64",
         "type": "integer"
        },
        {
         "name": "Bacteria",
         "rawType": "object",
         "type": "string"
        },
        {
         "name": "Bacteria Length",
         "rawType": "object",
         "type": "string"
        },
        {
         "name": "L_b (μm)",
         "rawType": "float64",
         "type": "float"
        },
        {
         "name": "σL_b",
         "rawType": "float64",
         "type": "float"
        },
        {
         "name": "Interaction Source",
         "rawType": "object",
         "type": "string"
        },
        {
         "name": "Diatom Length Source",
         "rawType": "object",
         "type": "string"
        },
        {
         "name": "Bacterial Length Source",
         "rawType": "object",
         "type": "string"
        },
        {
         "name": "R_d (μm)",
         "rawType": "float64",
         "type": "float"
        },
        {
         "name": "σR_d",
         "rawType": "float64",
         "type": "float"
        },
        {
         "name": "R_b (μm)",
         "rawType": "float64",
         "type": "float"
        },
        {
         "name": "σR_b",
         "rawType": "float64",
         "type": "float"
        }
       ],
       "ref": "de10068b-0295-4f46-afef-6314fd932bf7",
       "rows": [
        [
         "0",
         "Asterionellopsis glacialis",
         "30 – 150 μm in length",
         "90",
         "60",
         "Alteromonas macleodii",
         "1–2 µm long",
         "1.5",
         "0.5",
         "Residence time of a Brownian particle in a chemotactic patch next to an absorber Marco Polin",
         "EOS - Phytoplankton Encyclopedia Project",
         "Microbe Profile: Alteromonas macleodii | Microbiology Society",
         "45.0",
         "30.0",
         "0.75",
         "0.25"
        ],
        [
         "1",
         "Thalassiosira weissflogii",
         "4 – 32 µm in diameter",
         "18",
         "14",
         "Marinobacter adhaerens",
         "1.7-2.4 µm in length",
         "2.05",
         "0.35",
         "Chemotaxis of Marinobacter adhaerens and its impact on attachment to the diatom Thalassiosira weissflogii",
         "Species Profile - Thalassiosira weissflogii",
         "Marinobacter adhaerens HP15 | BacDive",
         "9.0",
         "7.0",
         "1.025",
         "0.175"
        ]
       ],
       "shape": {
        "columns": 15,
        "rows": 2
       }
      },
      "text/html": [
       "<div>\n",
       "<style scoped>\n",
       "    .dataframe tbody tr th:only-of-type {\n",
       "        vertical-align: middle;\n",
       "    }\n",
       "\n",
       "    .dataframe tbody tr th {\n",
       "        vertical-align: top;\n",
       "    }\n",
       "\n",
       "    .dataframe thead th {\n",
       "        text-align: right;\n",
       "    }\n",
       "</style>\n",
       "<table border=\"1\" class=\"dataframe\">\n",
       "  <thead>\n",
       "    <tr style=\"text-align: right;\">\n",
       "      <th></th>\n",
       "      <th>Diatom</th>\n",
       "      <th>Diatom Length</th>\n",
       "      <th>L_d (μm)</th>\n",
       "      <th>σL_d</th>\n",
       "      <th>Bacteria</th>\n",
       "      <th>Bacteria Length</th>\n",
       "      <th>L_b (μm)</th>\n",
       "      <th>σL_b</th>\n",
       "      <th>Interaction Source</th>\n",
       "      <th>Diatom Length Source</th>\n",
       "      <th>Bacterial Length Source</th>\n",
       "      <th>R_d (μm)</th>\n",
       "      <th>σR_d</th>\n",
       "      <th>R_b (μm)</th>\n",
       "      <th>σR_b</th>\n",
       "    </tr>\n",
       "  </thead>\n",
       "  <tbody>\n",
       "    <tr>\n",
       "      <th>0</th>\n",
       "      <td>Asterionellopsis glacialis</td>\n",
       "      <td>30 – 150 μm in length</td>\n",
       "      <td>90</td>\n",
       "      <td>60</td>\n",
       "      <td>Alteromonas macleodii</td>\n",
       "      <td>1–2 µm long</td>\n",
       "      <td>1.50</td>\n",
       "      <td>0.50</td>\n",
       "      <td>Residence time of a Brownian particle in a che...</td>\n",
       "      <td>EOS - Phytoplankton Encyclopedia Project</td>\n",
       "      <td>Microbe Profile: Alteromonas macleodii | Micro...</td>\n",
       "      <td>45.0</td>\n",
       "      <td>30.0</td>\n",
       "      <td>0.750</td>\n",
       "      <td>0.250</td>\n",
       "    </tr>\n",
       "    <tr>\n",
       "      <th>1</th>\n",
       "      <td>Thalassiosira weissflogii</td>\n",
       "      <td>4 – 32 µm in diameter</td>\n",
       "      <td>18</td>\n",
       "      <td>14</td>\n",
       "      <td>Marinobacter adhaerens</td>\n",
       "      <td>1.7-2.4 µm in length</td>\n",
       "      <td>2.05</td>\n",
       "      <td>0.35</td>\n",
       "      <td>Chemotaxis of Marinobacter adhaerens and its i...</td>\n",
       "      <td>Species Profile - Thalassiosira weissflogii</td>\n",
       "      <td>Marinobacter adhaerens HP15 | BacDive</td>\n",
       "      <td>9.0</td>\n",
       "      <td>7.0</td>\n",
       "      <td>1.025</td>\n",
       "      <td>0.175</td>\n",
       "    </tr>\n",
       "  </tbody>\n",
       "</table>\n",
       "</div>"
      ],
      "text/plain": [
       "                       Diatom          Diatom Length  L_d (μm)  σL_d  \\\n",
       "0  Asterionellopsis glacialis  30 – 150 μm in length        90    60   \n",
       "1   Thalassiosira weissflogii  4 – 32 µm in diameter        18    14   \n",
       "\n",
       "                 Bacteria       Bacteria Length  L_b (μm)  σL_b  \\\n",
       "0   Alteromonas macleodii           1–2 µm long      1.50  0.50   \n",
       "1  Marinobacter adhaerens  1.7-2.4 µm in length      2.05  0.35   \n",
       "\n",
       "                                  Interaction Source  \\\n",
       "0  Residence time of a Brownian particle in a che...   \n",
       "1  Chemotaxis of Marinobacter adhaerens and its i...   \n",
       "\n",
       "                          Diatom Length Source  \\\n",
       "0     EOS - Phytoplankton Encyclopedia Project   \n",
       "1  Species Profile - Thalassiosira weissflogii   \n",
       "\n",
       "                             Bacterial Length Source  R_d (μm)  σR_d  \\\n",
       "0  Microbe Profile: Alteromonas macleodii | Micro...      45.0  30.0   \n",
       "1              Marinobacter adhaerens HP15 | BacDive       9.0   7.0   \n",
       "\n",
       "   R_b (μm)   σR_b  \n",
       "0     0.750  0.250  \n",
       "1     1.025  0.175  "
      ]
     },
     "execution_count": 32,
     "metadata": {},
     "output_type": "execute_result"
    }
   ],
   "source": [
    "# Load the Excel file\n",
    "bionums_df = pd.read_excel('Real_Numbers.xlsx')\n",
    "\n",
    "# Real Diatom Radii (w std) \n",
    "bionums_df['R_d (μm)'] = bionums_df['L_d (μm)'].values/2\n",
    "bionums_df['σR_d'] = bionums_df['σL_d'].values/2\n",
    "\n",
    "# Real Bacteria Radii (w std)\n",
    "bionums_df['R_b (μm)'] = bionums_df['L_b (μm)'].values/2\n",
    "bionums_df['σR_b'] = bionums_df['σL_b'].values/2\n",
    "\n",
    "bionums_df"
   ]
  },
  {
   "cell_type": "markdown",
   "metadata": {},
   "source": [
    "#### Set the System's Parameters as a function of the Diatom Radius"
   ]
  },
  {
   "cell_type": "code",
   "execution_count": 33,
   "metadata": {},
   "outputs": [],
   "source": [
    "syst_params_func = lambda R_dtm : {\n",
    "    # Space Boundaries\n",
    "    'R_dtm' : R_dtm, 'R_inf' : 1000*R_dtm,\n",
    "    # Max Bacterial Boundary\n",
    "    'L' : 3*R_dtm,\n",
    "    'alpha': None,\n",
    "    # Number of points\n",
    "    'nr': 100_000, # Weird triangles appear if it's too low\n",
    "    'n_rho': 250,'n_lambda': 250\n",
    "}\n",
    "SOLVE_SYSTEM = True"
   ]
  },
  {
   "cell_type": "markdown",
   "metadata": {},
   "source": [
    "### 1. *Asterionellopsis glacialis* diatom & *Alteromonas macleodii* bacteria"
   ]
  },
  {
   "cell_type": "code",
   "execution_count": 34,
   "metadata": {},
   "outputs": [],
   "source": [
    "# Extract the first row of the DataFrame\n",
    "bionums = bionums_df.iloc[0]\n",
    "R_d = bionums['R_d (μm)']\n",
    "R_b = bionums['R_b (μm)']\n",
    "R_bmax = bionums['R_b (μm)'] + bionums['σR_b']\n",
    "label_d = bionums['Diatom']\n",
    "label_b = bionums['Bacteria']"
   ]
  },
  {
   "cell_type": "code",
   "execution_count": null,
   "metadata": {},
   "outputs": [
    {
     "ename": "KeyError",
     "evalue": "\"Unable to open object (object 'c_shell(r)_Asterionellopsis_glacialis' doesn't exist)\"",
     "output_type": "error",
     "traceback": [
      "\u001b[1;31m---------------------------------------------------------------------------\u001b[0m",
      "\u001b[1;31mKeyError\u001b[0m                                  Traceback (most recent call last)",
      "Cell \u001b[1;32mIn[35], line 11\u001b[0m\n\u001b[0;32m      9\u001b[0m     FM\u001b[38;5;241m.\u001b[39msave_data(filename)\n\u001b[0;32m     10\u001b[0m \u001b[38;5;28;01melse\u001b[39;00m:\n\u001b[1;32m---> 11\u001b[0m     FM\u001b[38;5;241m.\u001b[39mload_data(filename)\n\u001b[0;32m     12\u001b[0m FM\u001b[38;5;241m.\u001b[39mplot(flux_range\u001b[38;5;241m=\u001b[39m\u001b[38;5;28;01mFalse\u001b[39;00m, set_extremes\u001b[38;5;241m=\u001b[39m\u001b[38;5;28;01mTrue\u001b[39;00m, set_transition\u001b[38;5;241m=\u001b[39m\u001b[38;5;28;01mTrue\u001b[39;00m)\n\u001b[0;32m     14\u001b[0m \u001b[38;5;28mprint\u001b[39m(\u001b[38;5;124mf\u001b[39m\u001b[38;5;124m'\u001b[39m\u001b[38;5;124mDiatom: \u001b[39m\u001b[38;5;132;01m{\u001b[39;00mlabel_d\u001b[38;5;132;01m}\u001b[39;00m\u001b[38;5;124m'\u001b[39m)\n",
      "File \u001b[1;32mc:\\Users\\jorge\\OneDrive\\Pygrams\\TFG_program\\base\\base_fluxmap.py:255\u001b[0m, in \u001b[0;36mBaseFluxMap.load_data\u001b[1;34m(self, group_name)\u001b[0m\n\u001b[0;32m    253\u001b[0m \u001b[38;5;250m\u001b[39m\u001b[38;5;124;03m'''Load the data from a file with the given path and filename.'''\u001b[39;00m\n\u001b[0;32m    254\u001b[0m \u001b[38;5;28;01mwith\u001b[39;00m h5py\u001b[38;5;241m.\u001b[39mFile(\u001b[38;5;28mself\u001b[39m\u001b[38;5;241m.\u001b[39mdata_storage_file, mode\u001b[38;5;241m=\u001b[39m\u001b[38;5;124m'\u001b[39m\u001b[38;5;124mr\u001b[39m\u001b[38;5;124m'\u001b[39m) \u001b[38;5;28;01mas\u001b[39;00m f:\n\u001b[1;32m--> 255\u001b[0m     group \u001b[38;5;241m=\u001b[39m f[group_name]\n\u001b[0;32m    257\u001b[0m     \u001b[38;5;66;03m# Load flux map data\u001b[39;00m\n\u001b[0;32m    258\u001b[0m     \u001b[38;5;28mself\u001b[39m\u001b[38;5;241m.\u001b[39mflux_map \u001b[38;5;241m=\u001b[39m group[\u001b[38;5;124m'\u001b[39m\u001b[38;5;124mflux_map\u001b[39m\u001b[38;5;124m'\u001b[39m][()]\n",
      "File \u001b[1;32mh5py\\\\_objects.pyx:54\u001b[0m, in \u001b[0;36mh5py._objects.with_phil.wrapper\u001b[1;34m()\u001b[0m\n",
      "File \u001b[1;32mh5py\\\\_objects.pyx:55\u001b[0m, in \u001b[0;36mh5py._objects.with_phil.wrapper\u001b[1;34m()\u001b[0m\n",
      "File \u001b[1;32mc:\\Users\\jorge\\anaconda3\\Lib\\site-packages\\h5py\\_hl\\group.py:357\u001b[0m, in \u001b[0;36mGroup.__getitem__\u001b[1;34m(self, name)\u001b[0m\n\u001b[0;32m    355\u001b[0m         \u001b[38;5;28;01mraise\u001b[39;00m \u001b[38;5;167;01mValueError\u001b[39;00m(\u001b[38;5;124m\"\u001b[39m\u001b[38;5;124mInvalid HDF5 object reference\u001b[39m\u001b[38;5;124m\"\u001b[39m)\n\u001b[0;32m    356\u001b[0m \u001b[38;5;28;01melif\u001b[39;00m \u001b[38;5;28misinstance\u001b[39m(name, (\u001b[38;5;28mbytes\u001b[39m, \u001b[38;5;28mstr\u001b[39m)):\n\u001b[1;32m--> 357\u001b[0m     oid \u001b[38;5;241m=\u001b[39m h5o\u001b[38;5;241m.\u001b[39mopen(\u001b[38;5;28mself\u001b[39m\u001b[38;5;241m.\u001b[39mid, \u001b[38;5;28mself\u001b[39m\u001b[38;5;241m.\u001b[39m_e(name), lapl\u001b[38;5;241m=\u001b[39m\u001b[38;5;28mself\u001b[39m\u001b[38;5;241m.\u001b[39m_lapl)\n\u001b[0;32m    358\u001b[0m \u001b[38;5;28;01melse\u001b[39;00m:\n\u001b[0;32m    359\u001b[0m     \u001b[38;5;28;01mraise\u001b[39;00m \u001b[38;5;167;01mTypeError\u001b[39;00m(\u001b[38;5;124m\"\u001b[39m\u001b[38;5;124mAccessing a group is done with bytes or str, \u001b[39m\u001b[38;5;124m\"\u001b[39m\n\u001b[0;32m    360\u001b[0m                     \u001b[38;5;124m\"\u001b[39m\u001b[38;5;124mnot \u001b[39m\u001b[38;5;132;01m{}\u001b[39;00m\u001b[38;5;124m\"\u001b[39m\u001b[38;5;241m.\u001b[39mformat(\u001b[38;5;28mtype\u001b[39m(name)))\n",
      "File \u001b[1;32mh5py\\\\_objects.pyx:54\u001b[0m, in \u001b[0;36mh5py._objects.with_phil.wrapper\u001b[1;34m()\u001b[0m\n",
      "File \u001b[1;32mh5py\\\\_objects.pyx:55\u001b[0m, in \u001b[0;36mh5py._objects.with_phil.wrapper\u001b[1;34m()\u001b[0m\n",
      "File \u001b[1;32mh5py\\\\h5o.pyx:241\u001b[0m, in \u001b[0;36mh5py.h5o.open\u001b[1;34m()\u001b[0m\n",
      "\u001b[1;31mKeyError\u001b[0m: \"Unable to open object (object 'c_shell(r)_Asterionellopsis_glacialis' doesn't exist)\""
     ]
    }
   ],
   "source": [
    "syst_params = syst_params_func(int(R_d))\n",
    "syst_params['alpha'] = 1e2\n",
    "\n",
    "filename = f'c_shell(r)_{label_d.replace(\" \", \"_\")}'\n",
    "\n",
    "FM = FluxMap3D(syst_params, shell_generator)\n",
    "if True:\n",
    "    FM.solve(n_jobs=-1)\n",
    "    FM.save_data(filename)\n",
    "else:\n",
    "    FM.load_data(filename)\n",
    "FM.plot(flux_range=False, set_extremes=True, set_transition=True)\n",
    "\n",
    "print(f'Diatom: {label_d}')\n",
    "\n",
    "FM.ax.scatter(\n",
    "    FM.x_values[4], FM.y_values[4], color='red', s=R_b**2 * 100,\n",
    "    label=f'{label_b} bacterium\\n(R = {R_b})'\n",
    "    )\n",
    "\n",
    "FM.ax.scatter(\n",
    "    FM.x_values[4], FM.y_values[4], color= 'red', s=R_bmax**2 * 100,\n",
    "    alpha=0.3\n",
    "    )\n",
    "FM.ax.legend()\n",
    "\n",
    "print(f'Diatom Radius: {R_d}')\n",
    "print(f'Bacterium Radius: {R_b} ± {bionums[\"σR_b\"]}')"
   ]
  },
  {
   "cell_type": "markdown",
   "metadata": {},
   "source": [
    "#### Now, $R_d = 20$ μm"
   ]
  },
  {
   "cell_type": "code",
   "execution_count": 25,
   "metadata": {},
   "outputs": [],
   "source": [
    "R_d = 20 # bionums['R_d (μm)']"
   ]
  },
  {
   "cell_type": "code",
   "execution_count": null,
   "metadata": {},
   "outputs": [],
   "source": [
    "syst_params = syst_params_func(int(R_d))\n",
    "syst_params['alpha'] = 1e2\n",
    "\n",
    "FM = FluxMap3D(syst_params, shell_generator)\n",
    "FM.solve(n_jobs=-1)\n",
    "FM.title += f'\\n for {label_d}'\n",
    "FM.plot()\n",
    "FM.ax.scatter(\n",
    "    FM.x_values[4], FM.y_values[4], color='red', s=R_b**2 * 100,\n",
    "    label=f'{label_b} bacterium\\n(R = {R_b})'\n",
    "    )\n",
    "FM.ax.scatter(\n",
    "    FM.x_values[4], FM.y_values[4], color= 'red', s=R_bmax**2 * 100,\n",
    "    alpha=0.3\n",
    "    )\n",
    "FM.ax.legend()\n",
    "\n",
    "print(f'Diatom Radius: {R_d}')\n",
    "print(f'Bacterium Radius: {R_b} ± {bionums[\"σR_b\"]}')"
   ]
  },
  {
   "cell_type": "markdown",
   "metadata": {},
   "source": [
    "### *Thalassiosira weissflogii* diatom & *Marinobacter adhaerens* bacteria"
   ]
  },
  {
   "cell_type": "code",
   "execution_count": 26,
   "metadata": {},
   "outputs": [],
   "source": [
    "bionums = bionums_df.iloc[1]\n",
    "R_d = bionums['R_d (μm)']\n",
    "R_b = bionums['R_b (μm)']\n",
    "R_bmax = bionums['R_b (μm)'] + bionums['σR_b']\n",
    "label_d = bionums['Diatom']\n",
    "label_b = bionums['Bacteria']"
   ]
  },
  {
   "cell_type": "code",
   "execution_count": null,
   "metadata": {},
   "outputs": [],
   "source": [
    "syst_params = syst_params_func(int(R_d))\n",
    "syst_params['alpha'] = 1e2\n",
    "filename = f'c_shell(r)_{label_d.replace(\" \", \"_\")}'\n",
    "\n",
    "FM = FluxMap3D(syst_params, shell_generator)\n",
    "if SOLVE_SYSTEM:\n",
    "    FM.solve(n_jobs=-1)\n",
    "    FM.save_data(filename)\n",
    "else:\n",
    "    FM.load_data(filename)\n",
    "FM.plot(flux_range=False, set_extremes=True, set_transition=True)\n",
    "print(f'Diatom: {label_d}')\n",
    "\n",
    "FM.ax.scatter(\n",
    "    FM.x_values[4], FM.y_values[4], color='red', s=R_b**2 * 100,\n",
    "    label=f'{label_b} bacterium\\n(R = {R_b})'\n",
    "    )\n",
    "FM.ax.scatter(\n",
    "    FM.x_values[4], FM.y_values[4], color= 'red', s=R_bmax**2 * 100,\n",
    "    alpha=0.3\n",
    "    )\n",
    "FM.ax.legend();\n",
    "\n",
    "print(f'Diatom Radius: {R_d}')\n",
    "print(f'Bacterium Radius: {R_b} ± {bionums[\"σR_b\"]}')"
   ]
  }
 ],
 "metadata": {
  "kernelspec": {
   "display_name": "base",
   "language": "python",
   "name": "python3"
  },
  "language_info": {
   "codemirror_mode": {
    "name": "ipython",
    "version": 3
   },
   "file_extension": ".py",
   "mimetype": "text/x-python",
   "name": "python",
   "nbconvert_exporter": "python",
   "pygments_lexer": "ipython3",
   "version": "3.12.4"
  }
 },
 "nbformat": 4,
 "nbformat_minor": 2
}
