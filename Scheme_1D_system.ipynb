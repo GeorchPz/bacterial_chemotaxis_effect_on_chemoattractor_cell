{
 "cells": [
  {
   "cell_type": "code",
   "execution_count": 1,
   "id": "3e980e1a",
   "metadata": {},
   "outputs": [],
   "source": [
    "from base import BasePlotter, np, plt\n",
    "\n",
    "# Export figures to Folder\n",
    "figures_path = \"../TFG_latex/Figures/\""
   ]
  },
  {
   "cell_type": "code",
   "execution_count": 7,
   "id": "ff12417e",
   "metadata": {},
   "outputs": [],
   "source": [
    "def plot_length(ax, Xi, Xo, Y, label, colour='red'):\n",
    "    'Draw a double-arrowed line from R=Ri to R=Ro on the X-axis.'\n",
    "    head_width = 0.01\n",
    "    head_length = 0.02\n",
    "    zorder= 3\n",
    "    \n",
    "    ax.arrow(\n",
    "        Xi, Y, Xo-Xi, 0,\n",
    "        color=colour,\n",
    "        head_width=head_width,\n",
    "        head_length=head_length,\n",
    "        length_includes_head=True,\n",
    "        zorder=zorder\n",
    "        )\n",
    "    ax.arrow(\n",
    "        Xo, Y, Xi-Xo, 0,\n",
    "        color=colour,\n",
    "        head_width=head_width,\n",
    "        head_length=head_length,\n",
    "        length_includes_head=True,\n",
    "        zorder=zorder\n",
    "        )\n",
    "    ax.text(\n",
    "        (Xi + Xo) / 2, -0.045 + Y,\n",
    "        label,\n",
    "        color=colour,\n",
    "        ha='center',    # Center alignment\n",
    "        va='bottom',    # Bottom alignment\n",
    "        )\n"
   ]
  },
  {
   "cell_type": "code",
   "execution_count": 11,
   "id": "c0475699",
   "metadata": {},
   "outputs": [
    {
     "data": {
      "image/png": "[encoded data removed]",
      "text/plain": [
       "<Figure size 600x400 with 1 Axes>"
      ]
     },
     "metadata": {},
     "output_type": "display_data"
    }
   ],
   "source": [
    "base = BasePlotter()\n",
    "# Apply rcParams configuration\n",
    "base.configure_rc_params()\n",
    "\n",
    "base.fig, ax = plt.subplots(1, 1, figsize=(6, 4))\n",
    "ax.set_aspect('equal')\n",
    "ax.set_xlim(-0.1, 1.1)\n",
    "ax.set_ylim(-0.15, 0.1)\n",
    "\n",
    "ax.set_xticks([0, 1])\n",
    "ax.set_yticks([])\n",
    "\n",
    "ax.set_xlabel(\"x\")\n",
    "\n",
    "# Plot sink\n",
    "ax.add_patch(plt.Circle(\n",
    "    (0, 0), 0.02,\n",
    "    color='darkgreen', fill=False\n",
    "))\n",
    "ax.text(\n",
    "    0, 0.04,\n",
    "    \"Sink\",\n",
    "    color='darkgreen',\n",
    "    ha='center',    # Center alignment\n",
    "    va='bottom',    # Bottom alignment\n",
    ")\n",
    "# Plot source\n",
    "ax.add_patch(plt.Circle(\n",
    "    (1, 0), 0.02,\n",
    "    color='navy', fill=True, alpha=0.8\n",
    "))\n",
    "ax.text(\n",
    "    1, 0.04,\n",
    "    \"Source\",\n",
    "    color='navy',\n",
    "    ha='center',    # Center alignment\n",
    "    va='bottom',    # Bottom alignment\n",
    ")\n",
    "# Plot bacterial profile\n",
    "ax.add_patch(plt.Rectangle(\n",
    "    (0.25, -0.04), 0.5, 0.08,\n",
    "    facecolor='royalblue', alpha=0.8,\n",
    "))\n",
    "ax.text(\n",
    "    0.5, 0.04,\n",
    "    \"Bacteria\",\n",
    "    color='black',\n",
    "    ha='center',    # Center alignment\n",
    "    va='bottom',    # Bottom alignment\n",
    ")\n",
    "# Plot the system parameters\n",
    "plot_length(\n",
    "    ax, 0, 1, -0.105, r\"$L$\",\n",
    "    colour='darkgreen'\n",
    "    )\n",
    "plot_length(\n",
    "    ax, 0, 0.247, -0.06, r\"$x_0$\",\n",
    "    colour='royalblue'\n",
    "    )\n",
    "plot_length(\n",
    "    ax, 0.253, 0.75, -0.06, r\"$\\lambda$\",\n",
    "    colour='royalblue'\n",
    ")\n",
    "\n",
    "base.save(figures_path, 'scheme_sink_source')"
   ]
  }
 ],
 "metadata": {
  "kernelspec": {
   "display_name": "base",
   "language": "python",
   "name": "python3"
  },
  "language_info": {
   "codemirror_mode": {
    "name": "ipython",
    "version": 3
   },
   "file_extension": ".py",
   "mimetype": "text/x-python",
   "name": "python",
   "nbconvert_exporter": "python",
   "pygments_lexer": "ipython3",
   "version": "3.12.4"
  }
 },
 "nbformat": 4,
 "nbformat_minor": 5
}
