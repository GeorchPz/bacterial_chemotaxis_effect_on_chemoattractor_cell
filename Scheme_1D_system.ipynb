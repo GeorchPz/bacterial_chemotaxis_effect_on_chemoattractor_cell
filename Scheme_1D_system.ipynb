{
 "cells": [
  {
   "cell_type": "code",
   "execution_count": 1,
   "id": "3e980e1a",
   "metadata": {},
   "outputs": [],
   "source": [
    "from base import BasePlotter, np, plt\n",
    "\n",
    "# Export figures to Folder\n",
    "figures_path = \"../TFG_latex/Figures/\""
   ]
  },
  {
   "cell_type": "code",
   "execution_count": 2,
   "id": "ff12417e",
   "metadata": {},
   "outputs": [],
   "source": [
    "def plot_length(ax, Xi, Xo, Y, label, colour='red'):\n",
    "    'Draw a double-arrowed line from R=Ri to R=Ro on the X-axis.'\n",
    "    head_width = 0.01\n",
    "    head_length = 0.02\n",
    "    zorder= 3\n",
    "    \n",
    "    ax.arrow(\n",
    "        Xi, Y, Xo-Xi, 0,\n",
    "        color=colour,\n",
    "        head_width=head_width,\n",
    "        head_length=head_length,\n",
    "        length_includes_head=True,\n",
    "        zorder=zorder\n",
    "        )\n",
    "    ax.arrow(\n",
    "        Xo, Y, Xi-Xo, 0,\n",
    "        color=colour,\n",
    "        head_width=head_width,\n",
    "        head_length=head_length,\n",
    "        length_includes_head=True,\n",
    "        zorder=zorder\n",
    "        )\n",
    "    ax.text(\n",
    "        (Xi + Xo) / 2, -0.045 + Y,\n",
    "        label,\n",
    "        color=colour,\n",
    "        ha='center',    # Center alignment\n",
    "        va='bottom',    # Bottom alignment\n",
    "        )\n"
   ]
  },
  {
   "cell_type": "code",
   "execution_count": 6,
   "id": "c0475699",
   "metadata": {},
   "outputs": [
    {
     "data": {
      "image/png": "[encoded data removed]",
      "text/plain": [
       "<Figure size 600x400 with 1 Axes>"
      ]
     },
     "metadata": {},
     "output_type": "display_data"
    }
   ],
   "source": [
    "base = BasePlotter()\n",
    "# Apply rcParams configuration\n",
    "base.configure_rc_params()\n",
    "\n",
    "base.fig, ax = plt.subplots(1, 1, figsize=(6, 4))\n",
    "ax.set_aspect('equal')\n",
    "ax.set_xlim(-0.1, 1.1)\n",
    "ax.set_ylim(-0.15, 0.1)\n",
    "\n",
    "ax.set_xticks([0, 1])\n",
    "ax.set_yticks([])\n",
    "\n",
    "ax.set_xlabel(\"x\")\n",
    "\n",
    "# Plot sink\n",
    "ax.add_patch(plt.Rectangle(\n",
    "    xy = (-0.2, -0.05), width=0.20, height=0.1,\n",
    "    color='darkgreen', alpha=0.8\n",
    "))\n",
    "ax.text(\n",
    "    -0.025, 0.05,\n",
    "    \"Sink\",\n",
    "    color='darkgreen',\n",
    "    ha='right',    # Horizontal alignment\n",
    "    va='bottom',    # Vertical alignment\n",
    ")\n",
    "# Plot source\n",
    "ax.add_patch(plt.Rectangle(\n",
    "    xy = (1, -0.05), width=0.20, height=0.1,\n",
    "    color='navy', alpha=0.8\n",
    "))\n",
    "ax.text(\n",
    "    1, 0.05,\n",
    "    \"Source\",\n",
    "    color='navy',\n",
    "    ha='left',    # Horizontal alignment\n",
    "    va='bottom',    # Vertical alignment\n",
    ")\n",
    "# Plot bacterial profile\n",
    "ax.add_patch(plt.Rectangle(\n",
    "    (0.25, -0.05), width=0.5, height=0.1,\n",
    "    facecolor='royalblue', alpha=0.8,\n",
    "))\n",
    "ax.text(\n",
    "    0.5, 0.05,\n",
    "    \"Bacteria\",\n",
    "    color='black',\n",
    "    ha='center',     # Horizontal alignment\n",
    "    va='bottom',    # Vertical alignment\n",
    ")\n",
    "# Plot the system parameters\n",
    "plot_length(\n",
    "    ax, 0.005, 0.995, -0.105, r\"$L$\",\n",
    "    colour='darkgreen'\n",
    "    )\n",
    "plot_length(\n",
    "    ax, 0, 0.247, -0.06, r\"$x_0$\",\n",
    "    colour='black'\n",
    "    )\n",
    "plot_length(\n",
    "    ax, 0.253, 0.75, -0.06, r\"$\\lambda$\",\n",
    "    colour='black'\n",
    ")\n",
    "\n",
    "ax.set_xlim(-0.15, 1.15)\n",
    "\n",
    "base.save(figures_path, 'scheme_sink_source')"
   ]
  }
 ],
 "metadata": {
  "kernelspec": {
   "display_name": "base",
   "language": "python",
   "name": "python3"
  },
  "language_info": {
   "codemirror_mode": {
    "name": "ipython",
    "version": 3
   },
   "file_extension": ".py",
   "mimetype": "text/x-python",
   "name": "python",
   "nbconvert_exporter": "python",
   "pygments_lexer": "ipython3",
   "version": "3.12.4"
  }
 },
 "nbformat": 4,
 "nbformat_minor": 5
}
