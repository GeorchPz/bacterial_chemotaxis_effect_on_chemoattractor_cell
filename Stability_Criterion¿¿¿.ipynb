{
 "cells": [
  {
   "cell_type": "code",
   "execution_count": 1,
   "metadata": {},
   "outputs": [],
   "source": [
    "from base import np\n",
    "\n",
    "class Solver1D:\n",
    "    def __init__(self, params, c_func, n0_func = None):\n",
    "        \"\"\"\n",
    "        Solves the 1D Diffusion with Consumption problem using the Finite Difference Method.\n",
    "        \n",
    "        Args:\n",
    "            params (dict): System parameters.\n",
    "            c_func (callable): Bacterial distribution function.\n",
    "            n0_func (callable, optional): Initial condition for the Nutrients Concentration.\n",
    "        \"\"\"\n",
    "        # System Constants\n",
    "        self.L  = params['L']\n",
    "        self.T  = params['T']\n",
    "        self.Tc = params['Tc']\n",
    "        # self.Td = params['Td']\n",
    "        # self.Nb = params['Nb']\n",
    "        # # self.D  = self.L**2 / (2 * self.Td)\n",
    "        # self.D  = self.L**2 / self.Td\n",
    "        self.alpha = 1.0 / self.Tc\n",
    "        # Discretisation Constants\n",
    "        self.nx = params['nx']\n",
    "        self.nt = params['nt']\n",
    "\n",
    "        self.__discretise_system(n0_func, c_func)\n",
    "        \n",
    "\n",
    "    def __discretise_system(self, n0_func, c_func):\n",
    "        \"\"\"Discretise Space/Time and input distributions.\"\"\"\n",
    "        self.dx = self.L / (self.nx - 1)\n",
    "        self.x = np.linspace(0, self.L, self.nx)\n",
    "        self.t = np.linspace(0, self.T, self.nt)\n",
    "        self.c = c_func(self.x)\n",
    "        self.c_tag = c_func.__name__.split('_')[1]\n",
    "        if n0_func is not None:\n",
    "            self.n0 = n0_func(self.x)\n",
    "\n",
    "    def _stability_condition(self):\n",
    "        \"\"\"Calculate the stability condition for the PDE, Runge-Kutta 5(4).\"\"\"\n",
    "        # Eigenvalue from discretisation\n",
    "        R = 1.6 # Stability factor for RK5(4)\n",
    "        lambd = - 2 / self.dx**2 #- self.alpha * np.max(self.c)\n",
    "        dt = R / abs(lambd)\n",
    "        nt = int(self.T / dt + 1)\n",
    "        return nt"
   ]
  },
  {
   "cell_type": "code",
   "execution_count": 31,
   "metadata": {},
   "outputs": [
    {
     "name": "stdout",
     "output_type": "stream",
     "text": [
      "nt= 102\n"
     ]
    }
   ],
   "source": [
    "syst_params = {\n",
    "'L' : 1.0,  'T' : 1.0, # Lenght & Time Domain\n",
    "'Tc': 1.0,             # Consumption time\n",
    "'nx': 10,   'nt': 100  # Num Spatial/Temporal points\n",
    "}\n",
    "L = syst_params['L']\n",
    "\n",
    "# Initial condition for the nutrients\n",
    "n0_linear = lambda x: x / L\n",
    "# Bacterium distribution functions\n",
    "def c_const(x):\n",
    "    return np.ones_like(x)\n",
    "def c_midstep(x):\n",
    "    x0 = L/3 # Starting point of the step\n",
    "    l  = L/3 # Length of the step\n",
    "    cond = (x >= x0) & (x <= x0 + l)\n",
    "    return np.where( cond , 1/l , 0)\n",
    "def c_exp(x):\n",
    "    a = 1\n",
    "    return a/L * np.exp( a*(1-x/L) ) / (np.exp(a) - 1)\n",
    "\n",
    "S1D = Solver1D(syst_params, c_exp, n0_linear)\n",
    "\n",
    "print('nt=',S1D._stability_condition())"
   ]
  },
  {
   "cell_type": "code",
   "execution_count": 28,
   "metadata": {},
   "outputs": [
    {
     "data": {
      "text/plain": [
       "0.0003330847704397649"
      ]
     },
     "execution_count": 28,
     "metadata": {},
     "output_type": "execute_result"
    }
   ],
   "source": [
    "lambd = - 2 / S1D.dx**2 - S1D.alpha * np.max(S1D.c)\n",
    "dt = 1.6 / abs(lambd)\n",
    "dt"
   ]
  },
  {
   "cell_type": "code",
   "execution_count": 27,
   "metadata": {},
   "outputs": [
    {
     "data": {
      "text/plain": [
       "0.02040816326530612"
      ]
     },
     "execution_count": 27,
     "metadata": {},
     "output_type": "execute_result"
    }
   ],
   "source": [
    "dx = S1D.L / (S1D.nx - 1)\n",
    "dx"
   ]
  }
 ],
 "metadata": {
  "kernelspec": {
   "display_name": "base",
   "language": "python",
   "name": "python3"
  },
  "language_info": {
   "codemirror_mode": {
    "name": "ipython",
    "version": 3
   },
   "file_extension": ".py",
   "mimetype": "text/x-python",
   "name": "python",
   "nbconvert_exporter": "python",
   "pygments_lexer": "ipython3",
   "version": "3.12.4"
  }
 },
 "nbformat": 4,
 "nbformat_minor": 2
}
